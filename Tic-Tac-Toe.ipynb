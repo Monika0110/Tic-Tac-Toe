{
 "cells": [
  {
   "cell_type": "markdown",
   "id": "35a1efd9",
   "metadata": {},
   "source": [
    "# Tic-Tac-Toe code"
   ]
  },
  {
   "cell_type": "markdown",
   "id": "ed4835b6",
   "metadata": {},
   "source": [
    "# User input"
   ]
  },
  {
   "cell_type": "code",
   "execution_count": 1,
   "id": "fdf4690f",
   "metadata": {},
   "outputs": [],
   "source": [
    "def user_input():\n",
    "    user=\"Wrong\" #madea var which is not correct input\n",
    "    in_range=False\n",
    "    while user.isdigit()==False or in_range==False: #while loop till we find a correct input\n",
    "        \n",
    "        user=input(\"Enter a number (0-10): \")\n",
    "        \n",
    "        #DIGIT-CHECK\n",
    "        if user.isdigit()==False: #checking whther given input is digit or not\n",
    "            print(\"please enter a digit!\")\n",
    "        \n",
    "        #RANGE_CHECK\n",
    "        if user.isdigit()==True:\n",
    "            if int(user)>0 and int(user)<10:\n",
    "                in_range=True\n",
    "            else:\n",
    "                in_range=False\n",
    "                print(\"Please enter in given range! \")\n",
    "                \n",
    "    return int(user)"
   ]
  },
  {
   "cell_type": "code",
   "execution_count": 2,
   "id": "8b8ea9cd",
   "metadata": {},
   "outputs": [],
   "source": [
    "# user_input()"
   ]
  },
  {
   "cell_type": "markdown",
   "id": "ab06177e",
   "metadata": {},
   "source": [
    "now we gonna make a proper 3*3 empty matrix for game \n",
    "taking user input for the index position to put there choice\n",
    "then updating value at index position with user's given index"
   ]
  },
  {
   "cell_type": "code",
   "execution_count": 3,
   "id": "09e2696e",
   "metadata": {},
   "outputs": [],
   "source": [
    "game_matrix=[[0,1,2],\n",
    "            [0,1,2],\n",
    "            [0,1,2]]"
   ]
  },
  {
   "cell_type": "markdown",
   "id": "14b66fa6",
   "metadata": {},
   "source": [
    "Creating a display function chowing the current state of game board"
   ]
  },
  {
   "cell_type": "code",
   "execution_count": 4,
   "id": "a12be34b",
   "metadata": {},
   "outputs": [],
   "source": [
    "def display(game_matrix):\n",
    "    print(\"the game matrix is: \\n\",game_matrix)"
   ]
  },
  {
   "cell_type": "code",
   "execution_count": 5,
   "id": "66b73762",
   "metadata": {},
   "outputs": [],
   "source": [
    "# display(game_matrix)"
   ]
  },
  {
   "cell_type": "markdown",
   "id": "98bd0b32",
   "metadata": {},
   "source": [
    "A function which takes input of valid row,column position to put the turn of player"
   ]
  },
  {
   "cell_type": "code",
   "execution_count": 6,
   "id": "d9f03a6d",
   "metadata": {},
   "outputs": [],
   "source": [
    "def position_choice():\n",
    "    \n",
    "    row=\"wrong\"\n",
    "    in_range=False # we know the range should be 0,1,2->(0,3)\n",
    "    print(\"Enter the index to play your turn in range(0,3)\")\n",
    "    while row.isdigit()==False or column.isdigit()==False or in_range==False:\n",
    "        row=input(\"enter row: \")\n",
    "        column=input(\"enter column: \")\n",
    "        if row.isdigit()==False or column.isdigit()==False:\n",
    "            print(\"Please enter in numbers \")\n",
    "        \n",
    "        if row.isdigit()==True and column.isdigit()==True:\n",
    "            if int(row) in range(0,3) and int(column) in range(0,3):\n",
    "                in_range=True\n",
    "            else:\n",
    "                print(\"Please enter indices in given range \")\n",
    "                in_range=False\n",
    "    return int(row),int(column)"
   ]
  },
  {
   "cell_type": "code",
   "execution_count": 7,
   "id": "814b31ca",
   "metadata": {},
   "outputs": [],
   "source": [
    "# position_choice()"
   ]
  },
  {
   "cell_type": "markdown",
   "id": "28b66551",
   "metadata": {},
   "source": [
    "Update matrix index value at given indices"
   ]
  },
  {
   "cell_type": "code",
   "execution_count": 8,
   "id": "8c9d7190",
   "metadata": {},
   "outputs": [],
   "source": [
    "def replacement_choice(game_matrix,row,column):\n",
    "    user=input(\"enter your choice to put at selected position: \")\n",
    "    game_matrix[row][column]=user\n",
    "    return game_matrix"
   ]
  },
  {
   "cell_type": "code",
   "execution_count": 9,
   "id": "9e43f726",
   "metadata": {},
   "outputs": [],
   "source": [
    "# replacement_choice(game_matrix,1,1)"
   ]
  },
  {
   "cell_type": "markdown",
   "id": "e9060ab7",
   "metadata": {},
   "source": [
    "Asking if they wanna continue the game or not"
   ]
  },
  {
   "cell_type": "code",
   "execution_count": 10,
   "id": "c886a29e",
   "metadata": {},
   "outputs": [],
   "source": [
    "def continue_game():\n",
    "    choice=\"wrong\"\n",
    "    while choice not in [\"Y\",\"N\"]:\n",
    "        choice=input(\"Do you wanna continue! Y or N \")\n",
    "        \n",
    "        if choice not in [\"Y\",\"N\"]:\n",
    "            print(\"Enter valid choice! \")\n",
    "    if choice==\"Y\":\n",
    "        return True\n",
    "    else:\n",
    "        return False"
   ]
  },
  {
   "cell_type": "code",
   "execution_count": 11,
   "id": "397e8da5",
   "metadata": {},
   "outputs": [],
   "source": [
    "# continue_game()"
   ]
  },
  {
   "cell_type": "markdown",
   "id": "f0f7018a",
   "metadata": {},
   "source": [
    "The final method of game's working process"
   ]
  },
  {
   "cell_type": "code",
   "execution_count": 12,
   "id": "d2217338",
   "metadata": {},
   "outputs": [],
   "source": [
    "game_on =True\n",
    "# game_matrix=[[0,1,2],\n",
    "#             [0,1,2],\n",
    "#             [0,1,2]]\n",
    "\n",
    "# while game_on:\n",
    "    \n",
    "#     display(game_matrix)\n",
    "    \n",
    "#     row,column=position_choice()\n",
    "    \n",
    "#     game_matrix=replacement_choice(game_matrix,row,column)\n",
    "    \n",
    "#     display(game_matrix)\n",
    "    \n",
    "#     game_on=continue_game()"
   ]
  },
  {
   "cell_type": "markdown",
   "id": "0b4d5c8e",
   "metadata": {},
   "source": [
    "We are making a game for 2 human players"
   ]
  },
  {
   "cell_type": "code",
   "execution_count": 13,
   "id": "c5cf83da",
   "metadata": {},
   "outputs": [],
   "source": [
    "# so we are using a number-pad to get the location on the game-board --> on keyboard it looks like this\n",
    "# 7 8 9\n",
    "# 4 5 6\n",
    "# 1 2 3\n",
    "# we can use the same in making the online calculator"
   ]
  },
  {
   "cell_type": "code",
   "execution_count": 14,
   "id": "2d6ca12e",
   "metadata": {},
   "outputs": [],
   "source": [
    "from IPython.display import clear_output\n",
    "\n",
    "def display_board(board):\n",
    "# #     for i in range(len(board)):\n",
    "# #         if i%3==0:\n",
    "# #             print('\\n')\n",
    "# #         print(board[i+1]+' | ',end='')\n",
    "    clear_output()\n",
    "    print(board[7]+' |'+board[8]+' |'+board[9])\n",
    "    print('--'+'|'+'--'+'|'+'--')\n",
    "    print(board[4]+' |'+board[5]+' |'+board[6])\n",
    "    print('--'+'|'+'--'+'|'+'--')\n",
    "    print(board[1]+' |'+board[2]+' |'+board[3])\n",
    "\n",
    "\n",
    "# def display_board(board):\n",
    "#     for i in range(3):\n",
    "#         print('\\n')\n",
    "#         for j in range(5):\n",
    "#             print(board[i][j],end='')"
   ]
  },
  {
   "cell_type": "code",
   "execution_count": 15,
   "id": "a693d15c",
   "metadata": {},
   "outputs": [
    {
     "name": "stdout",
     "output_type": "stream",
     "text": [
      "7 |8 |9\n",
      "--|--|--\n",
      "4 |5 |6\n",
      "--|--|--\n",
      "1 |2 |3\n"
     ]
    }
   ],
   "source": [
    "# board_list=['0','7','8','9','4','5','6','1','2','3']\n",
    "board_list=['0','1','2','3','4','5','6','7','8','9']\n",
    "# board_list=[0,7,8,9,4,5,6,1,2,3]\n",
    "# print(len(board_list))\n",
    "# display_board(board_list) # if we run display function again we see the historical boards too so we use clear_output method\n",
    "display_board(board_list)\n",
    "# display_board(board_list)"
   ]
  },
  {
   "cell_type": "code",
   "execution_count": 16,
   "id": "e955e29b",
   "metadata": {},
   "outputs": [],
   "source": [
    "#Taking user input\n",
    "def player_input():\n",
    "    \n",
    "    '''OUTPUT= Player1, Player2 choice'''\n",
    "    \n",
    "    marker=''\n",
    "    while marker!='X' or marker!='O':\n",
    "        marker=input(\"Player1 choose 'X' or 'O': \").upper()\n",
    "        if marker=='X':\n",
    "            return ('X','O')\n",
    "        else:\n",
    "            return ('O','X')"
   ]
  },
  {
   "cell_type": "code",
   "execution_count": 17,
   "id": "af3fdce6",
   "metadata": {},
   "outputs": [],
   "source": [
    "# player,computer=player_input()"
   ]
  },
  {
   "cell_type": "code",
   "execution_count": 18,
   "id": "2067e2a5",
   "metadata": {},
   "outputs": [],
   "source": [
    "# function to assign marker to given position\n",
    "\n",
    "def place_marker(board,marker,position):\n",
    "    \n",
    "    board[int(position)]=marker\n",
    "#     for i in range(3):\n",
    "#         for j in range(5):\n",
    "#             if board[i][j]==position:\n",
    "#                 board[i][j]=marker\n",
    "    "
   ]
  },
  {
   "cell_type": "code",
   "execution_count": 19,
   "id": "d1e5e913",
   "metadata": {},
   "outputs": [],
   "source": [
    "# place_marker(board_list,'O',5)\n",
    "# display_board(board_list)"
   ]
  },
  {
   "cell_type": "code",
   "execution_count": 20,
   "id": "7274248d",
   "metadata": {},
   "outputs": [],
   "source": [
    "# display_board(board_list)\n",
    "# board_list[1][2]\n",
    "# import random\n",
    "# def computer_choice(board,marker):\n",
    "#     c='j'\n",
    "#     while str(c) not in board:\n",
    "#         c=random.randint(1,10)\n",
    "#         print(c)\n",
    "#     board[c]=marker\n"
   ]
  },
  {
   "cell_type": "code",
   "execution_count": 21,
   "id": "60b9821a",
   "metadata": {},
   "outputs": [],
   "source": [
    "# computer_choice(board_list,'X')\n",
    "# display_board(board_list)"
   ]
  },
  {
   "cell_type": "code",
   "execution_count": 22,
   "id": "4977ef1c",
   "metadata": {},
   "outputs": [],
   "source": [
    "#function to check whether the mark has won or not\n",
    "\n",
    "def win_check(board,mark):\n",
    "    \n",
    "    #WIN TIC TAC TOE?\n",
    "    \n",
    "    #Any row check if share same marker?\n",
    "    return (board[1]==board[2]==board[3]==mark or board[4]==board[5]==board[6]==mark or board[7]==board[8]==board[9]==mark or \n",
    "       board[1]==board[4]==board[7]==mark or board[2]==board[5]==board[8]==mark or board[3]==board[6]==board[9]==mark or\n",
    "       board[1]==board[5]==board[9]==mark or board[3]==board[5]==board[7]==mark)\n",
    "#         print(\"You Won!\",mark)\n",
    "    #Any column if share same marker?\n",
    "    #2 Diagonals if share same marker?\n",
    "    \n",
    "    "
   ]
  },
  {
   "cell_type": "code",
   "execution_count": 23,
   "id": "ce764546",
   "metadata": {},
   "outputs": [],
   "source": [
    "# list=['0','1','X','3','O','X','O','O','X','9']\n",
    "# win_check(list,'X')"
   ]
  },
  {
   "cell_type": "code",
   "execution_count": 24,
   "id": "223b72e6",
   "metadata": {},
   "outputs": [],
   "source": [
    "# function to randomly decide who goes first Player1 or player2?\\\n",
    "def choose_first():\n",
    "    \n",
    "    flip=random.randint(0,1)\n",
    "    if flip==0:\n",
    "        return 'Player2'\n",
    "    else:\n",
    "        return 'Player1'"
   ]
  },
  {
   "cell_type": "code",
   "execution_count": 25,
   "id": "3039f1d8",
   "metadata": {},
   "outputs": [],
   "source": [
    "#taking position input from player\n",
    "def player_choice(board):\n",
    "    position='a'\n",
    "    \n",
    "    while position not in board:\n",
    "        position=input(\"Choose position (1-9): \")\n",
    "        if position not in board:\n",
    "            print(\"Chosen position is already filled or it does not exist, Try again!\")\n",
    "    return position"
   ]
  },
  {
   "cell_type": "code",
   "execution_count": 26,
   "id": "ddc1e147",
   "metadata": {},
   "outputs": [],
   "source": [
    "# player_choice(list)"
   ]
  },
  {
   "cell_type": "code",
   "execution_count": 27,
   "id": "d33e3fec",
   "metadata": {},
   "outputs": [],
   "source": [
    "# CHeck if the board is full-->in case of tie\n",
    "def full_check(board):\n",
    "    \n",
    "    l=['1','2','3','4','5','6','7','8','9']\n",
    "    for i in l:\n",
    "        if i in board:\n",
    "            return False\n",
    "    else:\n",
    "        return True"
   ]
  },
  {
   "cell_type": "code",
   "execution_count": 28,
   "id": "f89de14d",
   "metadata": {},
   "outputs": [],
   "source": [
    "# check_for_full=['0','X','O','O','X','O','X','X','O','X']\n",
    "# full_check(check_for_full)"
   ]
  },
  {
   "cell_type": "code",
   "execution_count": 29,
   "id": "f4798347",
   "metadata": {},
   "outputs": [],
   "source": [
    "# Asking if want to play again\n",
    "def replay():\n",
    "    choice=input(\"Want to play again? Enter Y or N: \")\n",
    "    return choice=='Y'"
   ]
  },
  {
   "cell_type": "code",
   "execution_count": 30,
   "id": "609c7b74",
   "metadata": {},
   "outputs": [
    {
     "name": "stdout",
     "output_type": "stream",
     "text": [
      "O |8 |9\n",
      "--|--|--\n",
      "4 |O |X\n",
      "--|--|--\n",
      "X |X |O\n",
      "Player2 HAS WON!!\n",
      "Want to play again? Enter Y or N: N\n"
     ]
    }
   ],
   "source": [
    "# Now using while loops and functions we have made to run the game\n",
    "#WHILE LOOP to keep running the game\n",
    "import random\n",
    "print(\"Welcome to TIC-TAC-TOE!\")\n",
    "while True:\n",
    "    \n",
    "    #PLAY THE GAME\n",
    "    \n",
    "    #SET EVERYTHING UP (BOARD,WHOSE FIRST,MARKER PLAYER CHOSEN)\n",
    "    the_board=['0','1','2','3','4','5','6','7','8','9']\n",
    "    #you can try with using empty strings also\n",
    "    player1_marker,player2_marker=player_input()\n",
    "    \n",
    "    turn=choose_first()\n",
    "    print(turn + \" will go first!\")\n",
    "    \n",
    "    ##GAME PLAY\n",
    "    play_game=input(\"Ready to play? y or n: \")\n",
    "    if play_game=='y':\n",
    "        game_on=True\n",
    "    else:\n",
    "        game_on=False\n",
    "        \n",
    "    while game_on:\n",
    "        \n",
    "        if turn==\"Player1\":\n",
    "            ###PLAYER1 TURN\n",
    "            \n",
    "            #Show board\n",
    "            display_board(the_board)\n",
    "            #Choose position\n",
    "            print(\"Player 1 chance!\")\n",
    "            position=player_choice(the_board)\n",
    "            #Place the marker on position'\n",
    "            place_marker(the_board,player1_marker,position)\n",
    "            #Check if they won\n",
    "            if win_check(the_board,player1_marker):\n",
    "                display_board(the_board)\n",
    "                print(\"PLAYER1 HAS WON!!\")\n",
    "                game_on=False\n",
    "            #or check if there's a tie\n",
    "            else:\n",
    "                if full_check(the_board):\n",
    "                    display_board(the_board)\n",
    "                    print(\"THIS IS A TIE!!\")\n",
    "                    game_on=False\n",
    "                else:\n",
    "                    turn=\"Player2\"\n",
    "            #No tie and no win-->next player's turn\n",
    "            \n",
    "        else:\n",
    "            ###Player2 TURN\n",
    "            if turn==\"Player2\":\n",
    "                ###PLAYER2 TURN\n",
    "            \n",
    "                #Show board\n",
    "                display_board(the_board)\n",
    "                #Choose position and placing marker for Player2\n",
    "                print(\"Player 2 chance!\")\n",
    "                position = player_choice(the_board)\n",
    "                place_marker(the_board,player2_marker,position)\n",
    "                #Check if they won\n",
    "                if win_check(the_board,player2_marker):\n",
    "                    display_board(the_board)\n",
    "                    print(\"Player2 HAS WON!!\")\n",
    "                    game_on=False\n",
    "                #or check if there's a tie\n",
    "                else:\n",
    "                    if full_check(the_board):\n",
    "                        display_board(the_board)\n",
    "                        print(\"THIS IS A TIE!!\")\n",
    "                        game_on=False\n",
    "                    else:\n",
    "                        turn=\"Player1\"\n",
    "    if not replay():\n",
    "        break\n",
    "#Break WHILE on replay"
   ]
  }
 ],
 "metadata": {
  "kernelspec": {
   "display_name": "Python 3",
   "language": "python",
   "name": "python3"
  },
  "language_info": {
   "codemirror_mode": {
    "name": "ipython",
    "version": 3
   },
   "file_extension": ".py",
   "mimetype": "text/x-python",
   "name": "python",
   "nbconvert_exporter": "python",
   "pygments_lexer": "ipython3",
   "version": "3.9.2"
  }
 },
 "nbformat": 4,
 "nbformat_minor": 5
}
